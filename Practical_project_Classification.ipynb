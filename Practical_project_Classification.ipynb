{
  "nbformat": 4,
  "nbformat_minor": 0,
  "metadata": {
    "colab": {
      "provenance": [],
      "mount_file_id": "1Sp-oYqFU4sDEzymmIw0hvNzaRnTypuMl",
      "authorship_tag": "ABX9TyO5kp0PuTp2TfiTJoNI0/8B",
      "include_colab_link": true
    },
    "kernelspec": {
      "name": "python3",
      "display_name": "Python 3"
    },
    "language_info": {
      "name": "python"
    }
  },
  "cells": [
    {
      "cell_type": "markdown",
      "metadata": {
        "id": "view-in-github",
        "colab_type": "text"
      },
      "source": [
        "<a href=\"https://colab.research.google.com/github/MarkovicMartin/GITCourse/blob/main/Practical_project_Classification.ipynb\" target=\"_parent\"><img src=\"https://colab.research.google.com/assets/colab-badge.svg\" alt=\"Open In Colab\"/></a>"
      ]
    },
    {
      "cell_type": "code",
      "source": [
        "from google.colab import drive\n",
        "drive.mount('/content/drive')"
      ],
      "metadata": {
        "colab": {
          "base_uri": "https://localhost:8080/"
        },
        "id": "2Hnl7UMQjee7",
        "outputId": "de18ab90-4c44-487b-f2de-8864d2b6ff88"
      },
      "execution_count": 1,
      "outputs": [
        {
          "output_type": "stream",
          "name": "stdout",
          "text": [
            "Drive already mounted at /content/drive; to attempt to forcibly remount, call drive.mount(\"/content/drive\", force_remount=True).\n"
          ]
        }
      ]
    },
    {
      "cell_type": "code",
      "source": [
        "import pandas as pd\n",
        "import numpy as np\n",
        "import seaborn as sns\n",
        "import matplotlib.pyplot as plt\n",
        "import copy as copy\n",
        "from sklearn.linear_model import LinearRegression\n",
        "from sklearn.metrics import mean_squared_error\n",
        "from sklearn.model_selection import train_test_split\n",
        "from sklearn.ensemble import RandomForestRegressor\n",
        "from sklearn.tree import DecisionTreeRegressor\n",
        "\n",
        "from sklearn.metrics import roc_auc_score, classification_report"
      ],
      "metadata": {
        "id": "sM7-hExNk_7x"
      },
      "execution_count": 2,
      "outputs": []
    },
    {
      "cell_type": "code",
      "execution_count": 3,
      "metadata": {
        "id": "kvIXN1SIjYGm"
      },
      "outputs": [],
      "source": [
        "df1 =  pd.read_csv('/content/drive/MyDrive/ML-datasets/Practical project/df1.csv')\n",
        "\n",
        "df2 =  pd.read_csv('/content/drive/MyDrive/ML-datasets/Practical project/df2.csv')"
      ]
    },
    {
      "cell_type": "code",
      "source": [
        "df1.head()"
      ],
      "metadata": {
        "colab": {
          "base_uri": "https://localhost:8080/",
          "height": 357
        },
        "id": "H14g5KAEl6kg",
        "outputId": "bc066b16-70b0-4a2d-a95c-56ed33d1e380"
      },
      "execution_count": 4,
      "outputs": [
        {
          "output_type": "execute_result",
          "data": {
            "text/plain": [
              "   EmployeeNumber   Age BusinessTravel  DailyRate              Department  \\\n",
              "0             104  30.0  Travel_Rarely      852.0  Research & Development   \n",
              "1            1638  38.0  Travel_Rarely      397.0  Research & Development   \n",
              "2             164  26.0  Travel_Rarely      841.0  Research & Development   \n",
              "3             395  28.0  Travel_Rarely     1117.0  Research & Development   \n",
              "4              53  35.0  Travel_Rarely      464.0  Research & Development   \n",
              "\n",
              "   DistanceFromHome  Education EducationField  EmployeeCount  \\\n",
              "0               1.0        1.0  Life Sciences            1.0   \n",
              "1               2.0        2.0        Medical            1.0   \n",
              "2               6.0        3.0          Other            1.0   \n",
              "3               8.0        2.0  Life Sciences            1.0   \n",
              "4               4.0        2.0          Other            1.0   \n",
              "\n",
              "   EnvironmentSatisfaction  Gender  HourlyRate  JobInvolvement  JobLevel  \\\n",
              "0                      4.0    Male        55.0             2.0       2.0   \n",
              "1                      4.0  Female        54.0             2.0       3.0   \n",
              "2                      3.0  Female        46.0             2.0       1.0   \n",
              "3                      4.0  Female        66.0             3.0       1.0   \n",
              "4                      3.0    Male        75.0             3.0       1.0   \n",
              "\n",
              "                  JobRole  JobSatisfaction MaritalStatus  MonthlyIncome  \\\n",
              "0   Laboratory Technician              4.0       Married         5126.0   \n",
              "1  Manufacturing Director              3.0       Married         7756.0   \n",
              "2      Research Scientist              2.0       Married         2368.0   \n",
              "3      Research Scientist              4.0        Single         3310.0   \n",
              "4   Laboratory Technician              4.0      Divorced         1951.0   \n",
              "\n",
              "   MonthlyRate  NumCompaniesWorked  \n",
              "0      15998.0                 1.0  \n",
              "1      14199.0                 3.0  \n",
              "2      23300.0                 1.0  \n",
              "3       4488.0                 1.0  \n",
              "4      10910.0                 1.0  "
            ],
            "text/html": [
              "\n",
              "  <div id=\"df-e2da10bd-2cae-4750-9982-b852e00fb064\">\n",
              "    <div class=\"colab-df-container\">\n",
              "      <div>\n",
              "<style scoped>\n",
              "    .dataframe tbody tr th:only-of-type {\n",
              "        vertical-align: middle;\n",
              "    }\n",
              "\n",
              "    .dataframe tbody tr th {\n",
              "        vertical-align: top;\n",
              "    }\n",
              "\n",
              "    .dataframe thead th {\n",
              "        text-align: right;\n",
              "    }\n",
              "</style>\n",
              "<table border=\"1\" class=\"dataframe\">\n",
              "  <thead>\n",
              "    <tr style=\"text-align: right;\">\n",
              "      <th></th>\n",
              "      <th>EmployeeNumber</th>\n",
              "      <th>Age</th>\n",
              "      <th>BusinessTravel</th>\n",
              "      <th>DailyRate</th>\n",
              "      <th>Department</th>\n",
              "      <th>DistanceFromHome</th>\n",
              "      <th>Education</th>\n",
              "      <th>EducationField</th>\n",
              "      <th>EmployeeCount</th>\n",
              "      <th>EnvironmentSatisfaction</th>\n",
              "      <th>Gender</th>\n",
              "      <th>HourlyRate</th>\n",
              "      <th>JobInvolvement</th>\n",
              "      <th>JobLevel</th>\n",
              "      <th>JobRole</th>\n",
              "      <th>JobSatisfaction</th>\n",
              "      <th>MaritalStatus</th>\n",
              "      <th>MonthlyIncome</th>\n",
              "      <th>MonthlyRate</th>\n",
              "      <th>NumCompaniesWorked</th>\n",
              "    </tr>\n",
              "  </thead>\n",
              "  <tbody>\n",
              "    <tr>\n",
              "      <th>0</th>\n",
              "      <td>104</td>\n",
              "      <td>30.0</td>\n",
              "      <td>Travel_Rarely</td>\n",
              "      <td>852.0</td>\n",
              "      <td>Research &amp; Development</td>\n",
              "      <td>1.0</td>\n",
              "      <td>1.0</td>\n",
              "      <td>Life Sciences</td>\n",
              "      <td>1.0</td>\n",
              "      <td>4.0</td>\n",
              "      <td>Male</td>\n",
              "      <td>55.0</td>\n",
              "      <td>2.0</td>\n",
              "      <td>2.0</td>\n",
              "      <td>Laboratory Technician</td>\n",
              "      <td>4.0</td>\n",
              "      <td>Married</td>\n",
              "      <td>5126.0</td>\n",
              "      <td>15998.0</td>\n",
              "      <td>1.0</td>\n",
              "    </tr>\n",
              "    <tr>\n",
              "      <th>1</th>\n",
              "      <td>1638</td>\n",
              "      <td>38.0</td>\n",
              "      <td>Travel_Rarely</td>\n",
              "      <td>397.0</td>\n",
              "      <td>Research &amp; Development</td>\n",
              "      <td>2.0</td>\n",
              "      <td>2.0</td>\n",
              "      <td>Medical</td>\n",
              "      <td>1.0</td>\n",
              "      <td>4.0</td>\n",
              "      <td>Female</td>\n",
              "      <td>54.0</td>\n",
              "      <td>2.0</td>\n",
              "      <td>3.0</td>\n",
              "      <td>Manufacturing Director</td>\n",
              "      <td>3.0</td>\n",
              "      <td>Married</td>\n",
              "      <td>7756.0</td>\n",
              "      <td>14199.0</td>\n",
              "      <td>3.0</td>\n",
              "    </tr>\n",
              "    <tr>\n",
              "      <th>2</th>\n",
              "      <td>164</td>\n",
              "      <td>26.0</td>\n",
              "      <td>Travel_Rarely</td>\n",
              "      <td>841.0</td>\n",
              "      <td>Research &amp; Development</td>\n",
              "      <td>6.0</td>\n",
              "      <td>3.0</td>\n",
              "      <td>Other</td>\n",
              "      <td>1.0</td>\n",
              "      <td>3.0</td>\n",
              "      <td>Female</td>\n",
              "      <td>46.0</td>\n",
              "      <td>2.0</td>\n",
              "      <td>1.0</td>\n",
              "      <td>Research Scientist</td>\n",
              "      <td>2.0</td>\n",
              "      <td>Married</td>\n",
              "      <td>2368.0</td>\n",
              "      <td>23300.0</td>\n",
              "      <td>1.0</td>\n",
              "    </tr>\n",
              "    <tr>\n",
              "      <th>3</th>\n",
              "      <td>395</td>\n",
              "      <td>28.0</td>\n",
              "      <td>Travel_Rarely</td>\n",
              "      <td>1117.0</td>\n",
              "      <td>Research &amp; Development</td>\n",
              "      <td>8.0</td>\n",
              "      <td>2.0</td>\n",
              "      <td>Life Sciences</td>\n",
              "      <td>1.0</td>\n",
              "      <td>4.0</td>\n",
              "      <td>Female</td>\n",
              "      <td>66.0</td>\n",
              "      <td>3.0</td>\n",
              "      <td>1.0</td>\n",
              "      <td>Research Scientist</td>\n",
              "      <td>4.0</td>\n",
              "      <td>Single</td>\n",
              "      <td>3310.0</td>\n",
              "      <td>4488.0</td>\n",
              "      <td>1.0</td>\n",
              "    </tr>\n",
              "    <tr>\n",
              "      <th>4</th>\n",
              "      <td>53</td>\n",
              "      <td>35.0</td>\n",
              "      <td>Travel_Rarely</td>\n",
              "      <td>464.0</td>\n",
              "      <td>Research &amp; Development</td>\n",
              "      <td>4.0</td>\n",
              "      <td>2.0</td>\n",
              "      <td>Other</td>\n",
              "      <td>1.0</td>\n",
              "      <td>3.0</td>\n",
              "      <td>Male</td>\n",
              "      <td>75.0</td>\n",
              "      <td>3.0</td>\n",
              "      <td>1.0</td>\n",
              "      <td>Laboratory Technician</td>\n",
              "      <td>4.0</td>\n",
              "      <td>Divorced</td>\n",
              "      <td>1951.0</td>\n",
              "      <td>10910.0</td>\n",
              "      <td>1.0</td>\n",
              "    </tr>\n",
              "  </tbody>\n",
              "</table>\n",
              "</div>\n",
              "      <button class=\"colab-df-convert\" onclick=\"convertToInteractive('df-e2da10bd-2cae-4750-9982-b852e00fb064')\"\n",
              "              title=\"Convert this dataframe to an interactive table.\"\n",
              "              style=\"display:none;\">\n",
              "        \n",
              "  <svg xmlns=\"http://www.w3.org/2000/svg\" height=\"24px\"viewBox=\"0 0 24 24\"\n",
              "       width=\"24px\">\n",
              "    <path d=\"M0 0h24v24H0V0z\" fill=\"none\"/>\n",
              "    <path d=\"M18.56 5.44l.94 2.06.94-2.06 2.06-.94-2.06-.94-.94-2.06-.94 2.06-2.06.94zm-11 1L8.5 8.5l.94-2.06 2.06-.94-2.06-.94L8.5 2.5l-.94 2.06-2.06.94zm10 10l.94 2.06.94-2.06 2.06-.94-2.06-.94-.94-2.06-.94 2.06-2.06.94z\"/><path d=\"M17.41 7.96l-1.37-1.37c-.4-.4-.92-.59-1.43-.59-.52 0-1.04.2-1.43.59L10.3 9.45l-7.72 7.72c-.78.78-.78 2.05 0 2.83L4 21.41c.39.39.9.59 1.41.59.51 0 1.02-.2 1.41-.59l7.78-7.78 2.81-2.81c.8-.78.8-2.07 0-2.86zM5.41 20L4 18.59l7.72-7.72 1.47 1.35L5.41 20z\"/>\n",
              "  </svg>\n",
              "      </button>\n",
              "      \n",
              "  <style>\n",
              "    .colab-df-container {\n",
              "      display:flex;\n",
              "      flex-wrap:wrap;\n",
              "      gap: 12px;\n",
              "    }\n",
              "\n",
              "    .colab-df-convert {\n",
              "      background-color: #E8F0FE;\n",
              "      border: none;\n",
              "      border-radius: 50%;\n",
              "      cursor: pointer;\n",
              "      display: none;\n",
              "      fill: #1967D2;\n",
              "      height: 32px;\n",
              "      padding: 0 0 0 0;\n",
              "      width: 32px;\n",
              "    }\n",
              "\n",
              "    .colab-df-convert:hover {\n",
              "      background-color: #E2EBFA;\n",
              "      box-shadow: 0px 1px 2px rgba(60, 64, 67, 0.3), 0px 1px 3px 1px rgba(60, 64, 67, 0.15);\n",
              "      fill: #174EA6;\n",
              "    }\n",
              "\n",
              "    [theme=dark] .colab-df-convert {\n",
              "      background-color: #3B4455;\n",
              "      fill: #D2E3FC;\n",
              "    }\n",
              "\n",
              "    [theme=dark] .colab-df-convert:hover {\n",
              "      background-color: #434B5C;\n",
              "      box-shadow: 0px 1px 3px 1px rgba(0, 0, 0, 0.15);\n",
              "      filter: drop-shadow(0px 1px 2px rgba(0, 0, 0, 0.3));\n",
              "      fill: #FFFFFF;\n",
              "    }\n",
              "  </style>\n",
              "\n",
              "      <script>\n",
              "        const buttonEl =\n",
              "          document.querySelector('#df-e2da10bd-2cae-4750-9982-b852e00fb064 button.colab-df-convert');\n",
              "        buttonEl.style.display =\n",
              "          google.colab.kernel.accessAllowed ? 'block' : 'none';\n",
              "\n",
              "        async function convertToInteractive(key) {\n",
              "          const element = document.querySelector('#df-e2da10bd-2cae-4750-9982-b852e00fb064');\n",
              "          const dataTable =\n",
              "            await google.colab.kernel.invokeFunction('convertToInteractive',\n",
              "                                                     [key], {});\n",
              "          if (!dataTable) return;\n",
              "\n",
              "          const docLinkHtml = 'Like what you see? Visit the ' +\n",
              "            '<a target=\"_blank\" href=https://colab.research.google.com/notebooks/data_table.ipynb>data table notebook</a>'\n",
              "            + ' to learn more about interactive tables.';\n",
              "          element.innerHTML = '';\n",
              "          dataTable['output_type'] = 'display_data';\n",
              "          await google.colab.output.renderOutput(dataTable, element);\n",
              "          const docLink = document.createElement('div');\n",
              "          docLink.innerHTML = docLinkHtml;\n",
              "          element.appendChild(docLink);\n",
              "        }\n",
              "      </script>\n",
              "    </div>\n",
              "  </div>\n",
              "  "
            ]
          },
          "metadata": {},
          "execution_count": 4
        }
      ]
    },
    {
      "cell_type": "code",
      "source": [
        "def des_object(df, varname):\n",
        "    vcounts = df[varname].value_counts()\n",
        "    vcounts_len = len(vcounts)\n",
        "    print(\"\")\n",
        "    print(\"*********************************\")\n",
        "    print(\"***********\")\n",
        "    print(varname, \"| type:\",df[varname].dtype)\n",
        "    print(\"***********\")\n",
        "    print(f\"There are {vcounts_len} different values.\")\n",
        "    print(vcounts.iloc[:min(7,vcounts_len)])\n",
        "    print(\"*********************************\")\n",
        "    print(\"\")\n",
        "    \n",
        "def des_numeric(df, varname):\n",
        "    vcounts = df[varname].value_counts()\n",
        "    vcounts_len = len(vcounts)\n",
        "    print(\"\")\n",
        "    print(\"*********************************\")\n",
        "    print(\"***********\")\n",
        "    print(varname, \"| type:\",df[varname].dtype)\n",
        "    print(\"***********\")\n",
        "    print(f\"There are {vcounts_len} different values.\")\n",
        "    print(vcounts.iloc[:min(7,vcounts_len)])\n",
        "    print(\"***********\")\n",
        "    print(df[varname].describe())\n",
        "    sns.histplot(df, x=varname, kde = True)\n",
        "    plt.show()\n",
        "    print(\"*********************************\")\n",
        "    print(\"\")\n",
        "    \n",
        "def des_df(df):\n",
        "    for c in df.columns:\n",
        "        if df[c].dtype == object:\n",
        "            des_object(df,c)\n",
        "        else:\n",
        "            des_numeric(df,c)\n",
        "            "
      ],
      "metadata": {
        "id": "Rr-qE-JTlpn8"
      },
      "execution_count": 5,
      "outputs": []
    },
    {
      "cell_type": "code",
      "source": [
        "df2.isnull().sum().sort_values(ascending = False)"
      ],
      "metadata": {
        "colab": {
          "base_uri": "https://localhost:8080/"
        },
        "id": "i8KTOGMMvCkJ",
        "outputId": "08de6020-3035-4ed8-92e6-f6dc38df28e2"
      },
      "execution_count": 6,
      "outputs": [
        {
          "output_type": "execute_result",
          "data": {
            "text/plain": [
              "Attrition                   147\n",
              "EmployeeNumber                0\n",
              "TrainingTimesLastYear         0\n",
              "YearsWithCurrManager          0\n",
              "YearsSinceLastPromotion       0\n",
              "YearsInCurrentRole            0\n",
              "YearsAtCompany                0\n",
              "WorkLifeBalance               0\n",
              "TotalWorkingYears             0\n",
              "Over18                        0\n",
              "StockOptionLevel              0\n",
              "StandardHours                 0\n",
              "RelationshipSatisfaction      0\n",
              "PerformanceRating             0\n",
              "PercentSalaryHike             0\n",
              "OverTime                      0\n",
              "YearlyIncome                  0\n",
              "dtype: int64"
            ]
          },
          "metadata": {},
          "execution_count": 6
        }
      ]
    },
    {
      "cell_type": "code",
      "source": [
        "# Merge DF1/2 by Empoyee Number for training\n",
        "df = pd.merge (df1, df2, on=\"EmployeeNumber\")\n",
        "df.shape"
      ],
      "metadata": {
        "colab": {
          "base_uri": "https://localhost:8080/"
        },
        "id": "cwIDZYhhw8rF",
        "outputId": "848a6149-8025-4055-908e-81588aa491b2"
      },
      "execution_count": 9,
      "outputs": [
        {
          "output_type": "execute_result",
          "data": {
            "text/plain": [
              "(4449, 36)"
            ]
          },
          "metadata": {},
          "execution_count": 9
        }
      ]
    },
    {
      "cell_type": "code",
      "source": [
        "# column names and their data types\n",
        "with pd.option_context('display.max_rows', None):\n",
        "    print(df.dtypes)"
      ],
      "metadata": {
        "colab": {
          "base_uri": "https://localhost:8080/"
        },
        "id": "p3xjnifAvXql",
        "outputId": "dd2471c4-10bf-4a1c-b6d4-bda571c8e9cf"
      },
      "execution_count": 10,
      "outputs": [
        {
          "output_type": "stream",
          "name": "stdout",
          "text": [
            "EmployeeNumber                int64\n",
            "Age                         float64\n",
            "BusinessTravel               object\n",
            "DailyRate                   float64\n",
            "Department                   object\n",
            "DistanceFromHome            float64\n",
            "Education                   float64\n",
            "EducationField               object\n",
            "EmployeeCount               float64\n",
            "EnvironmentSatisfaction     float64\n",
            "Gender                       object\n",
            "HourlyRate                  float64\n",
            "JobInvolvement              float64\n",
            "JobLevel                    float64\n",
            "JobRole                      object\n",
            "JobSatisfaction             float64\n",
            "MaritalStatus                object\n",
            "MonthlyIncome               float64\n",
            "MonthlyRate                 float64\n",
            "NumCompaniesWorked          float64\n",
            "Over18                       object\n",
            "OverTime                     object\n",
            "PercentSalaryHike           float64\n",
            "PerformanceRating           float64\n",
            "RelationshipSatisfaction    float64\n",
            "StandardHours               float64\n",
            "StockOptionLevel            float64\n",
            "TotalWorkingYears           float64\n",
            "TrainingTimesLastYear       float64\n",
            "WorkLifeBalance             float64\n",
            "YearsAtCompany              float64\n",
            "YearsInCurrentRole          float64\n",
            "YearsSinceLastPromotion     float64\n",
            "YearsWithCurrManager        float64\n",
            "Attrition                    object\n",
            "YearlyIncome                float64\n",
            "dtype: object\n"
          ]
        }
      ]
    },
    {
      "cell_type": "code",
      "source": [
        "#unique values in columns\n",
        "print(df.apply(lambda col: col.unique()))"
      ],
      "metadata": {
        "colab": {
          "base_uri": "https://localhost:8080/"
        },
        "id": "u6qz8LtS2mx9",
        "outputId": "4de8ae21-0bca-4f72-8373-4f28521e4df2"
      },
      "execution_count": 11,
      "outputs": [
        {
          "output_type": "stream",
          "name": "stdout",
          "text": [
            "EmployeeNumber              [104, 1638, 164, 395, 53, 1467, 727, 351, 555,...\n",
            "Age                         [30.0, 38.0, 26.0, 28.0, 35.0, 34.0, 32.0, 42....\n",
            "BusinessTravel                 [Travel_Rarely, Travel_Frequently, Non-Travel]\n",
            "DailyRate                   [852.0, 397.0, 841.0, 1117.0, 464.0, 1107.0, 1...\n",
            "Department                   [Research & Development, Human Resources, Sales]\n",
            "DistanceFromHome            [1.0, 2.0, 6.0, 8.0, 4.0, 9.0, 3.0, 5.0, 22.0,...\n",
            "Education                                           [1.0, 2.0, 3.0, 4.0, 5.0]\n",
            "EducationField              [Life Sciences, Medical, Other, Technical Degr...\n",
            "EmployeeCount                                                           [1.0]\n",
            "EnvironmentSatisfaction                                  [4.0, 3.0, 1.0, 2.0]\n",
            "Gender                                                         [Male, Female]\n",
            "HourlyRate                  [55.0, 54.0, 46.0, 66.0, 75.0, 52.0, 39.0, 56....\n",
            "JobInvolvement                                           [2.0, 3.0, 1.0, 4.0]\n",
            "JobLevel                                            [2.0, 3.0, 1.0, 5.0, 4.0]\n",
            "JobRole                     [Laboratory Technician, Manufacturing Director...\n",
            "JobSatisfaction                                          [4.0, 3.0, 2.0, 1.0]\n",
            "MaritalStatus                                     [Married, Single, Divorced]\n",
            "MonthlyIncome               [5126.0, 7756.0, 2368.0, 3310.0, 1951.0, 2742....\n",
            "MonthlyRate                 [15998.0, 14199.0, 23300.0, 4488.0, 10910.0, 3...\n",
            "NumCompaniesWorked          [1.0, 3.0, 0.0, 5.0, 9.0, 4.0, 2.0, 6.0, 7.0, ...\n",
            "Over18                                                                    [Y]\n",
            "OverTime                                                            [Yes, No]\n",
            "PercentSalaryHike           [12.0, 19.0, 21.0, 15.0, 11.0, 16.0, 14.0, 13....\n",
            "PerformanceRating                                                  [3.0, 4.0]\n",
            "RelationshipSatisfaction                                 [3.0, 4.0, 2.0, 1.0]\n",
            "StandardHours                                                          [80.0]\n",
            "StockOptionLevel                                         [2.0, 1.0, 0.0, 3.0]\n",
            "TotalWorkingYears           [10.0, 5.0, 1.0, 2.0, 3.0, 21.0, 11.0, 19.0, 0...\n",
            "TrainingTimesLastYear                     [1.0, 6.0, 3.0, 0.0, 4.0, 2.0, 5.0]\n",
            "WorkLifeBalance                                          [2.0, 4.0, 3.0, 1.0]\n",
            "YearsAtCompany              [10.0, 5.0, 1.0, 2.0, 7.0, 9.0, 20.0, 0.0, 3.0...\n",
            "YearsInCurrentRole          [8.0, 4.0, 3.0, 0.0, 2.0, 7.0, 6.0, 9.0, 5.0, ...\n",
            "YearsSinceLastPromotion     [3.0, 0.0, 4.0, 2.0, 7.0, 1.0, 9.0, 8.0, 5.0, ...\n",
            "YearsWithCurrManager        [0.0, 2.0, 3.0, 7.0, 8.0, 9.0, 6.0, 11.0, 4.0,...\n",
            "Attrition                                                      [No, Yes, nan]\n",
            "YearlyIncome                [61512.0, 93072.0, 28416.0, 39720.0, 23412.0, ...\n",
            "dtype: object\n"
          ]
        }
      ]
    },
    {
      "cell_type": "code",
      "source": [
        "sns.heatmap(df.corr())"
      ],
      "metadata": {
        "colab": {
          "base_uri": "https://localhost:8080/",
          "height": 401
        },
        "id": "HDtb48xT3SxW",
        "outputId": "7379356f-4574-4d9b-b1b8-a5ca04e75c47"
      },
      "execution_count": 13,
      "outputs": [
        {
          "output_type": "execute_result",
          "data": {
            "text/plain": [
              "<matplotlib.axes._subplots.AxesSubplot at 0x7f31b42b4110>"
            ]
          },
          "metadata": {},
          "execution_count": 13
        },
        {
          "output_type": "display_data",
          "data": {
            "text/plain": [
              "<Figure size 432x288 with 2 Axes>"
            ],
            "image/png": "[encoded data removed]"
          },
          "metadata": {
            "needs_background": "light"
          }
        }
      ]
    },
    {
      "cell_type": "code",
      "source": [
        "#correlation matrix\n",
        "corrmat = df.corr()\n",
        "f, ax = plt.subplots(figsize=(12, 9))\n",
        "sns.heatmap(corrmat, vmax=.8, square=True);\n",
        "\n",
        "k = 10 #number of variables for heatmap\n",
        "cols = corrmat.nlargest(k, 'Education')['Education'].index\n",
        "cm = np.corrcoef(df[cols].values.T)\n",
        "sns.set(font_scale=1.25)\n",
        "hm = sns.heatmap(cm, cbar=True, annot=True, square=True, fmt='.2f', annot_kws={'size': 10}, yticklabels=cols.values, xticklabels=cols.values)\n",
        "plt.show()"
      ],
      "metadata": {
        "colab": {
          "base_uri": "https://localhost:8080/",
          "height": 619
        },
        "id": "2jKm-GY14ikO",
        "outputId": "d382ae54-b72b-4940-d835-50b290c5b723"
      },
      "execution_count": 14,
      "outputs": [
        {
          "output_type": "display_data",
          "data": {
            "text/plain": [
              "<Figure size 864x648 with 3 Axes>"
            ],
            "image/png": "[encoded data removed]"
          },
          "metadata": {
            "needs_background": "light"
          }
        }
      ]
    },
    {
      "cell_type": "markdown",
      "source": [
        "##Drop over 18 and solving objects"
      ],
      "metadata": {
        "id": "hhIvo88vz89M"
      }
    },
    {
      "cell_type": "code",
      "source": [
        "df.drop(['Over18'], inplace=True, axis=1)\n",
        "df.drop(['EmployeeCount'], inplace=True, axis=1)\n",
        "df.drop(['StandardHours'], inplace=True, axis=1)\n",
        "df.drop(['YearlyIncome'], inplace=True, axis=1)"
      ],
      "metadata": {
        "id": "fEL5tY16zva9"
      },
      "execution_count": 15,
      "outputs": []
    },
    {
      "cell_type": "code",
      "source": [
        "df['OverTime'] = df['OverTime'].replace(['Yes','No'],[1,0])\n",
        "df['Attrition'] = df['Attrition'].replace(['Yes','No'],[1,0])\n",
        "df['Gender'] = df['Gender'].replace(['Male','Female'],[1,0])\n",
        "\n"
      ],
      "metadata": {
        "id": "Y_q9E8py7BS1"
      },
      "execution_count": 16,
      "outputs": []
    },
    {
      "cell_type": "code",
      "source": [
        "dummy = ['MaritalStatus','BusinessTravel', 'Department', 'EducationField', 'JobRole']\n",
        "df = pd.get_dummies(df, columns=dummy, drop_first=True)\n"
      ],
      "metadata": {
        "id": "vBndnktyL3yO"
      },
      "execution_count": 17,
      "outputs": []
    },
    {
      "cell_type": "code",
      "source": [
        "#data clearing - wrong values in: DistanceFromHome\n",
        "for x in df.index:\n",
        "  if df.loc[x, \"DistanceFromHome\"] > 29:\n",
        "    df.loc[x, \"DistanceFromHome\"] = 30"
      ],
      "metadata": {
        "id": "TyaQflxOByFo"
      },
      "execution_count": 18,
      "outputs": []
    },
    {
      "cell_type": "code",
      "source": [
        "for col in df.columns:\n",
        "    print(col)"
      ],
      "metadata": {
        "colab": {
          "base_uri": "https://localhost:8080/"
        },
        "id": "kvdoxxg6SG7h",
        "outputId": "9b5e1f55-dcfb-42f2-e9e7-6df0b25723ac"
      },
      "execution_count": 19,
      "outputs": [
        {
          "output_type": "stream",
          "name": "stdout",
          "text": [
            "EmployeeNumber\n",
            "Age\n",
            "DailyRate\n",
            "DistanceFromHome\n",
            "Education\n",
            "EnvironmentSatisfaction\n",
            "Gender\n",
            "HourlyRate\n",
            "JobInvolvement\n",
            "JobLevel\n",
            "JobSatisfaction\n",
            "MonthlyIncome\n",
            "MonthlyRate\n",
            "NumCompaniesWorked\n",
            "OverTime\n",
            "PercentSalaryHike\n",
            "PerformanceRating\n",
            "RelationshipSatisfaction\n",
            "StockOptionLevel\n",
            "TotalWorkingYears\n",
            "TrainingTimesLastYear\n",
            "WorkLifeBalance\n",
            "YearsAtCompany\n",
            "YearsInCurrentRole\n",
            "YearsSinceLastPromotion\n",
            "YearsWithCurrManager\n",
            "Attrition\n",
            "MaritalStatus_Married\n",
            "MaritalStatus_Single\n",
            "BusinessTravel_Travel_Frequently\n",
            "BusinessTravel_Travel_Rarely\n",
            "Department_Research & Development\n",
            "Department_Sales\n",
            "EducationField_Life Sciences\n",
            "EducationField_Marketing\n",
            "EducationField_Medical\n",
            "EducationField_Other\n",
            "EducationField_Technical Degree\n",
            "JobRole_Human Resources\n",
            "JobRole_Laboratory Technician\n",
            "JobRole_Manager\n",
            "JobRole_Manufacturing Director\n",
            "JobRole_Research Director\n",
            "JobRole_Research Scientist\n",
            "JobRole_Sales Executive\n",
            "JobRole_Sales Representative\n"
          ]
        }
      ]
    },
    {
      "cell_type": "markdown",
      "source": [
        "Outlaiers?\n",
        "\n",
        "\n",
        "YearsWithCurrManager = YearsInCurrentRole\n",
        "DONE\n",
        "\n",
        "YearsInCurrentRole = YearsAtCompany - YearsSinceLastPromotion\n",
        "DONE\n",
        "\n",
        "YearsSinceLastPromotion = YearsAtCompany - YearsInCurrentRole\n",
        "DONE\n",
        "\n",
        "YearsAtCompany = YearsInCurrentRole + YearsSinceLastPromotion \n",
        "DONE\n",
        "\n",
        "\n",
        "TotalWorkingYears = Age - Education\n",
        "DONE\n",
        "\n",
        "Age = Education + TotalWorkingYears\n",
        "DONE \n",
        "\n",
        "1 'Below College' = 18\n",
        "\n",
        "2 'College' = 19\n",
        "\n",
        "3 'Bachelor' = 22\n",
        "\n",
        "4 'Master' = 24\n",
        "\n",
        "5 'Doctor' = 27"
      ],
      "metadata": {
        "id": "JWi5W1dWI07z"
      }
    },
    {
      "cell_type": "markdown",
      "source": [
        "#Age = Education + TotalWorkingYears"
      ],
      "metadata": {
        "id": "b4KKqhg6lklp"
      }
    },
    {
      "cell_type": "code",
      "source": [
        "for x in df.index:\n",
        "  if df.loc[x, \"Age\"] > 60:\n",
        "    if df.loc[x, \"Education\"] == 1:\n",
        "      df.loc[x, \"Age\"] = 18 + df.loc[x, \"TotalWorkingYears\"]\n",
        "    elif df.loc[x, \"Education\"] == 2:\n",
        "      df.loc[x, \"Age\"] = 19 + df.loc[x, \"TotalWorkingYears\"]\n",
        "    elif df.loc[x, \"Education\"] == 3:\n",
        "      df.loc[x, \"Age\"] = 22 + df.loc[x, \"TotalWorkingYears\"]\n",
        "    elif df.loc[x, \"Education\"] == 4:\n",
        "      df.loc[x, \"Age\"] = 24 + df.loc[x, \"TotalWorkingYears\"]\n",
        "    else:\n",
        "      df.loc[x, \"Age\"] = 27 + df.loc[x, \"TotalWorkingYears\"]\n",
        "      "
      ],
      "metadata": {
        "id": "F9PAX4oHc-6V"
      },
      "execution_count": 20,
      "outputs": []
    },
    {
      "cell_type": "markdown",
      "source": [
        "#TotalWorkingYears = Age - Education"
      ],
      "metadata": {
        "id": "940VRrielgsR"
      }
    },
    {
      "cell_type": "code",
      "source": [
        "for x in df.index:\n",
        "  if df.loc[x, \"TotalWorkingYears\"] > 40:\n",
        "    if df.loc[x, \"Education\"] == 1:\n",
        "      df.loc[x, \"TotalWorkingYears\"] = df.loc[x, \"Age\"] - 18 \n",
        "    elif df.loc[x, \"Education\"] == 2:\n",
        "      df.loc[x, \"TotalWorkingYears\"] = df.loc[x, \"Age\"] - 19\n",
        "    elif df.loc[x, \"Education\"] == 3:\n",
        "      df.loc[x, \"TotalWorkingYears\"] = df.loc[x, \"Age\"] - 22\n",
        "    elif df.loc[x, \"Education\"] == 4:\n",
        "      df.loc[x, \"TotalWorkingYears\"] = df.loc[x, \"Age\"] - 24\n",
        "    else:\n",
        "      df.loc[x, \"TotalWorkingYears\"] = df.loc[x, \"Age\"] - 27 "
      ],
      "metadata": {
        "id": "XopYJv7yi8lD"
      },
      "execution_count": 21,
      "outputs": []
    },
    {
      "cell_type": "code",
      "source": [
        "#Solving 4 values of -4 by putting 0 instead. They dont have Age to have this kind of degree - different country Age at schools most likely we have no idea of country datas are from\n",
        "for x in df.index:\n",
        "  if df.loc[x, \"TotalWorkingYears\"] == -4:\n",
        "    df.loc[x, \"TotalWorkingYears\"] = 0"
      ],
      "metadata": {
        "id": "5sse8aRLnk2w"
      },
      "execution_count": 22,
      "outputs": []
    },
    {
      "cell_type": "markdown",
      "source": [
        "#YearsAtCompany = YearsInCurrentRole + YearsSinceLastPromotion"
      ],
      "metadata": {
        "id": "syzGJvzBlcCe"
      }
    },
    {
      "cell_type": "code",
      "source": [
        "for x in df.index:\n",
        "  if df.loc[x, \"YearsAtCompany\"] > 40:\n",
        "    df.loc[x, \"YearsAtCompany\"] = df.loc[x, \"YearsInCurrentRole\"] + df.loc[x, \"YearsSinceLastPromotion\"]\n"
      ],
      "metadata": {
        "id": "CPZ-wjLdk1pJ"
      },
      "execution_count": 23,
      "outputs": []
    },
    {
      "cell_type": "markdown",
      "source": [
        "#YearsSinceLastPromotion = YearsAtCompany - YearsInCurrentRole"
      ],
      "metadata": {
        "id": "7txhk-QvlsKR"
      }
    },
    {
      "cell_type": "code",
      "source": [
        "for x in df.index:\n",
        "  if df.loc[x, \"YearsSinceLastPromotion\"] > 40:\n",
        "    df.loc[x, \"YearsSinceLastPromotion\"] = df.loc[x, \"YearsAtCompany\"] - df.loc[x, \"YearsInCurrentRole\"]"
      ],
      "metadata": {
        "id": "YgA6xHUoluDs"
      },
      "execution_count": 24,
      "outputs": []
    },
    {
      "cell_type": "markdown",
      "source": [
        "#YearsInCurrentRole = YearsAtCompany - YearsSinceLastPromotion"
      ],
      "metadata": {
        "id": "-Bm1R2c9mT9S"
      }
    },
    {
      "cell_type": "code",
      "source": [
        "for x in df.index:\n",
        "  if df.loc[x, \"YearsInCurrentRole\"] > 40:\n",
        "    df.loc[x, \"YearsInCurrentRole\"] = df.loc[x, \"YearsAtCompany\"] - df.loc[x, \"YearsSinceLastPromotion\"]\n"
      ],
      "metadata": {
        "id": "yBWQX3P9mSx3"
      },
      "execution_count": 25,
      "outputs": []
    },
    {
      "cell_type": "markdown",
      "source": [
        "#YearsWithCurrManager = YearsInCurrentRole"
      ],
      "metadata": {
        "id": "XjtVTvyimrVV"
      }
    },
    {
      "cell_type": "code",
      "source": [
        "for x in df.index:\n",
        "  if df.loc[x, \"YearsWithCurrManager\"] > 40:\n",
        "    df.loc[x, \"YearsWithCurrManager\"] = df.loc[x, \"YearsInCurrentRole\"]"
      ],
      "metadata": {
        "id": "7aanE7G3mhl4"
      },
      "execution_count": 26,
      "outputs": []
    },
    {
      "cell_type": "markdown",
      "source": [
        "#**Data Train**"
      ],
      "metadata": {
        "id": "lw6UVJX8pNlt"
      }
    },
    {
      "cell_type": "markdown",
      "source": [
        "Splitting"
      ],
      "metadata": {
        "id": "dX7bDoh8p-Un"
      }
    },
    {
      "cell_type": "code",
      "source": [
        "df_test = df[df['EmployeeNumber'] >= 100000]\n",
        "df_train = df[df['EmployeeNumber'] < 100000]\n"
      ],
      "metadata": {
        "id": "qpGefvcXp-CU"
      },
      "execution_count": 52,
      "outputs": []
    },
    {
      "cell_type": "code",
      "source": [
        "X = df_train.drop(['Attrition'], axis=1)\n",
        "y = df_train['Attrition']\n",
        "\n",
        "\n",
        "X_df_test = df_test.drop(['Attrition'], axis=1)\n",
        "\n",
        "\n",
        "\n",
        "X_train, X_test, y_train, y_test = train_test_split(X, y, test_size=0.33, random_state=42)"
      ],
      "metadata": {
        "id": "dZF-s91MqMQ1"
      },
      "execution_count": 59,
      "outputs": []
    },
    {
      "cell_type": "code",
      "source": [
        "X.head()"
      ],
      "metadata": {
        "colab": {
          "base_uri": "https://localhost:8080/",
          "height": 317
        },
        "id": "uslYk_EX0Opl",
        "outputId": "ba47170f-93bf-4e04-e3ea-664ad3bddc18"
      },
      "execution_count": 60,
      "outputs": [
        {
          "output_type": "execute_result",
          "data": {
            "text/plain": [
              "   EmployeeNumber   Age  DailyRate  DistanceFromHome  Education  \\\n",
              "0             104  30.0      852.0               1.0        1.0   \n",
              "1            1638  38.0      397.0               2.0        2.0   \n",
              "2             164  26.0      841.0               6.0        3.0   \n",
              "3             395  28.0     1117.0               8.0        2.0   \n",
              "4              53  35.0      464.0               4.0        2.0   \n",
              "\n",
              "   EnvironmentSatisfaction  Gender  HourlyRate  JobInvolvement  JobLevel  ...  \\\n",
              "0                      4.0       1        55.0             2.0       2.0  ...   \n",
              "1                      4.0       0        54.0             2.0       3.0  ...   \n",
              "2                      3.0       0        46.0             2.0       1.0  ...   \n",
              "3                      4.0       0        66.0             3.0       1.0  ...   \n",
              "4                      3.0       1        75.0             3.0       1.0  ...   \n",
              "\n",
              "   EducationField_Other  EducationField_Technical Degree  \\\n",
              "0                     0                                0   \n",
              "1                     0                                0   \n",
              "2                     1                                0   \n",
              "3                     0                                0   \n",
              "4                     1                                0   \n",
              "\n",
              "   JobRole_Human Resources  JobRole_Laboratory Technician  JobRole_Manager  \\\n",
              "0                        0                              1                0   \n",
              "1                        0                              0                0   \n",
              "2                        0                              0                0   \n",
              "3                        0                              0                0   \n",
              "4                        0                              1                0   \n",
              "\n",
              "   JobRole_Manufacturing Director  JobRole_Research Director  \\\n",
              "0                               0                          0   \n",
              "1                               1                          0   \n",
              "2                               0                          0   \n",
              "3                               0                          0   \n",
              "4                               0                          0   \n",
              "\n",
              "   JobRole_Research Scientist  JobRole_Sales Executive  \\\n",
              "0                           0                        0   \n",
              "1                           0                        0   \n",
              "2                           1                        0   \n",
              "3                           1                        0   \n",
              "4                           0                        0   \n",
              "\n",
              "   JobRole_Sales Representative  \n",
              "0                             0  \n",
              "1                             0  \n",
              "2                             0  \n",
              "3                             0  \n",
              "4                             0  \n",
              "\n",
              "[5 rows x 45 columns]"
            ],
            "text/html": [
              "\n",
              "  <div id=\"df-c201db86-af0d-4a79-80c3-3e3ce0dd61fa\">\n",
              "    <div class=\"colab-df-container\">\n",
              "      <div>\n",
              "<style scoped>\n",
              "    .dataframe tbody tr th:only-of-type {\n",
              "        vertical-align: middle;\n",
              "    }\n",
              "\n",
              "    .dataframe tbody tr th {\n",
              "        vertical-align: top;\n",
              "    }\n",
              "\n",
              "    .dataframe thead th {\n",
              "        text-align: right;\n",
              "    }\n",
              "</style>\n",
              "<table border=\"1\" class=\"dataframe\">\n",
              "  <thead>\n",
              "    <tr style=\"text-align: right;\">\n",
              "      <th></th>\n",
              "      <th>EmployeeNumber</th>\n",
              "      <th>Age</th>\n",
              "      <th>DailyRate</th>\n",
              "      <th>DistanceFromHome</th>\n",
              "      <th>Education</th>\n",
              "      <th>EnvironmentSatisfaction</th>\n",
              "      <th>Gender</th>\n",
              "      <th>HourlyRate</th>\n",
              "      <th>JobInvolvement</th>\n",
              "      <th>JobLevel</th>\n",
              "      <th>...</th>\n",
              "      <th>EducationField_Other</th>\n",
              "      <th>EducationField_Technical Degree</th>\n",
              "      <th>JobRole_Human Resources</th>\n",
              "      <th>JobRole_Laboratory Technician</th>\n",
              "      <th>JobRole_Manager</th>\n",
              "      <th>JobRole_Manufacturing Director</th>\n",
              "      <th>JobRole_Research Director</th>\n",
              "      <th>JobRole_Research Scientist</th>\n",
              "      <th>JobRole_Sales Executive</th>\n",
              "      <th>JobRole_Sales Representative</th>\n",
              "    </tr>\n",
              "  </thead>\n",
              "  <tbody>\n",
              "    <tr>\n",
              "      <th>0</th>\n",
              "      <td>104</td>\n",
              "      <td>30.0</td>\n",
              "      <td>852.0</td>\n",
              "      <td>1.0</td>\n",
              "      <td>1.0</td>\n",
              "      <td>4.0</td>\n",
              "      <td>1</td>\n",
              "      <td>55.0</td>\n",
              "      <td>2.0</td>\n",
              "      <td>2.0</td>\n",
              "      <td>...</td>\n",
              "      <td>0</td>\n",
              "      <td>0</td>\n",
              "      <td>0</td>\n",
              "      <td>1</td>\n",
              "      <td>0</td>\n",
              "      <td>0</td>\n",
              "      <td>0</td>\n",
              "      <td>0</td>\n",
              "      <td>0</td>\n",
              "      <td>0</td>\n",
              "    </tr>\n",
              "    <tr>\n",
              "      <th>1</th>\n",
              "      <td>1638</td>\n",
              "      <td>38.0</td>\n",
              "      <td>397.0</td>\n",
              "      <td>2.0</td>\n",
              "      <td>2.0</td>\n",
              "      <td>4.0</td>\n",
              "      <td>0</td>\n",
              "      <td>54.0</td>\n",
              "      <td>2.0</td>\n",
              "      <td>3.0</td>\n",
              "      <td>...</td>\n",
              "      <td>0</td>\n",
              "      <td>0</td>\n",
              "      <td>0</td>\n",
              "      <td>0</td>\n",
              "      <td>0</td>\n",
              "      <td>1</td>\n",
              "      <td>0</td>\n",
              "      <td>0</td>\n",
              "      <td>0</td>\n",
              "      <td>0</td>\n",
              "    </tr>\n",
              "    <tr>\n",
              "      <th>2</th>\n",
              "      <td>164</td>\n",
              "      <td>26.0</td>\n",
              "      <td>841.0</td>\n",
              "      <td>6.0</td>\n",
              "      <td>3.0</td>\n",
              "      <td>3.0</td>\n",
              "      <td>0</td>\n",
              "      <td>46.0</td>\n",
              "      <td>2.0</td>\n",
              "      <td>1.0</td>\n",
              "      <td>...</td>\n",
              "      <td>1</td>\n",
              "      <td>0</td>\n",
              "      <td>0</td>\n",
              "      <td>0</td>\n",
              "      <td>0</td>\n",
              "      <td>0</td>\n",
              "      <td>0</td>\n",
              "      <td>1</td>\n",
              "      <td>0</td>\n",
              "      <td>0</td>\n",
              "    </tr>\n",
              "    <tr>\n",
              "      <th>3</th>\n",
              "      <td>395</td>\n",
              "      <td>28.0</td>\n",
              "      <td>1117.0</td>\n",
              "      <td>8.0</td>\n",
              "      <td>2.0</td>\n",
              "      <td>4.0</td>\n",
              "      <td>0</td>\n",
              "      <td>66.0</td>\n",
              "      <td>3.0</td>\n",
              "      <td>1.0</td>\n",
              "      <td>...</td>\n",
              "      <td>0</td>\n",
              "      <td>0</td>\n",
              "      <td>0</td>\n",
              "      <td>0</td>\n",
              "      <td>0</td>\n",
              "      <td>0</td>\n",
              "      <td>0</td>\n",
              "      <td>1</td>\n",
              "      <td>0</td>\n",
              "      <td>0</td>\n",
              "    </tr>\n",
              "    <tr>\n",
              "      <th>4</th>\n",
              "      <td>53</td>\n",
              "      <td>35.0</td>\n",
              "      <td>464.0</td>\n",
              "      <td>4.0</td>\n",
              "      <td>2.0</td>\n",
              "      <td>3.0</td>\n",
              "      <td>1</td>\n",
              "      <td>75.0</td>\n",
              "      <td>3.0</td>\n",
              "      <td>1.0</td>\n",
              "      <td>...</td>\n",
              "      <td>1</td>\n",
              "      <td>0</td>\n",
              "      <td>0</td>\n",
              "      <td>1</td>\n",
              "      <td>0</td>\n",
              "      <td>0</td>\n",
              "      <td>0</td>\n",
              "      <td>0</td>\n",
              "      <td>0</td>\n",
              "      <td>0</td>\n",
              "    </tr>\n",
              "  </tbody>\n",
              "</table>\n",
              "<p>5 rows × 45 columns</p>\n",
              "</div>\n",
              "      <button class=\"colab-df-convert\" onclick=\"convertToInteractive('df-c201db86-af0d-4a79-80c3-3e3ce0dd61fa')\"\n",
              "              title=\"Convert this dataframe to an interactive table.\"\n",
              "              style=\"display:none;\">\n",
              "        \n",
              "  <svg xmlns=\"http://www.w3.org/2000/svg\" height=\"24px\"viewBox=\"0 0 24 24\"\n",
              "       width=\"24px\">\n",
              "    <path d=\"M0 0h24v24H0V0z\" fill=\"none\"/>\n",
              "    <path d=\"M18.56 5.44l.94 2.06.94-2.06 2.06-.94-2.06-.94-.94-2.06-.94 2.06-2.06.94zm-11 1L8.5 8.5l.94-2.06 2.06-.94-2.06-.94L8.5 2.5l-.94 2.06-2.06.94zm10 10l.94 2.06.94-2.06 2.06-.94-2.06-.94-.94-2.06-.94 2.06-2.06.94z\"/><path d=\"M17.41 7.96l-1.37-1.37c-.4-.4-.92-.59-1.43-.59-.52 0-1.04.2-1.43.59L10.3 9.45l-7.72 7.72c-.78.78-.78 2.05 0 2.83L4 21.41c.39.39.9.59 1.41.59.51 0 1.02-.2 1.41-.59l7.78-7.78 2.81-2.81c.8-.78.8-2.07 0-2.86zM5.41 20L4 18.59l7.72-7.72 1.47 1.35L5.41 20z\"/>\n",
              "  </svg>\n",
              "      </button>\n",
              "      \n",
              "  <style>\n",
              "    .colab-df-container {\n",
              "      display:flex;\n",
              "      flex-wrap:wrap;\n",
              "      gap: 12px;\n",
              "    }\n",
              "\n",
              "    .colab-df-convert {\n",
              "      background-color: #E8F0FE;\n",
              "      border: none;\n",
              "      border-radius: 50%;\n",
              "      cursor: pointer;\n",
              "      display: none;\n",
              "      fill: #1967D2;\n",
              "      height: 32px;\n",
              "      padding: 0 0 0 0;\n",
              "      width: 32px;\n",
              "    }\n",
              "\n",
              "    .colab-df-convert:hover {\n",
              "      background-color: #E2EBFA;\n",
              "      box-shadow: 0px 1px 2px rgba(60, 64, 67, 0.3), 0px 1px 3px 1px rgba(60, 64, 67, 0.15);\n",
              "      fill: #174EA6;\n",
              "    }\n",
              "\n",
              "    [theme=dark] .colab-df-convert {\n",
              "      background-color: #3B4455;\n",
              "      fill: #D2E3FC;\n",
              "    }\n",
              "\n",
              "    [theme=dark] .colab-df-convert:hover {\n",
              "      background-color: #434B5C;\n",
              "      box-shadow: 0px 1px 3px 1px rgba(0, 0, 0, 0.15);\n",
              "      filter: drop-shadow(0px 1px 2px rgba(0, 0, 0, 0.3));\n",
              "      fill: #FFFFFF;\n",
              "    }\n",
              "  </style>\n",
              "\n",
              "      <script>\n",
              "        const buttonEl =\n",
              "          document.querySelector('#df-c201db86-af0d-4a79-80c3-3e3ce0dd61fa button.colab-df-convert');\n",
              "        buttonEl.style.display =\n",
              "          google.colab.kernel.accessAllowed ? 'block' : 'none';\n",
              "\n",
              "        async function convertToInteractive(key) {\n",
              "          const element = document.querySelector('#df-c201db86-af0d-4a79-80c3-3e3ce0dd61fa');\n",
              "          const dataTable =\n",
              "            await google.colab.kernel.invokeFunction('convertToInteractive',\n",
              "                                                     [key], {});\n",
              "          if (!dataTable) return;\n",
              "\n",
              "          const docLinkHtml = 'Like what you see? Visit the ' +\n",
              "            '<a target=\"_blank\" href=https://colab.research.google.com/notebooks/data_table.ipynb>data table notebook</a>'\n",
              "            + ' to learn more about interactive tables.';\n",
              "          element.innerHTML = '';\n",
              "          dataTable['output_type'] = 'display_data';\n",
              "          await google.colab.output.renderOutput(dataTable, element);\n",
              "          const docLink = document.createElement('div');\n",
              "          docLink.innerHTML = docLinkHtml;\n",
              "          element.appendChild(docLink);\n",
              "        }\n",
              "      </script>\n",
              "    </div>\n",
              "  </div>\n",
              "  "
            ]
          },
          "metadata": {},
          "execution_count": 60
        }
      ]
    },
    {
      "cell_type": "code",
      "source": [
        "from sklearn.ensemble import RandomForestClassifier\n",
        "from sklearn.svm import SVC\n",
        "from sklearn.linear_model import LogisticRegression\n",
        "from sklearn.neighbors import KNeighborsClassifier\n",
        "from sklearn.ensemble import AdaBoostClassifier\n",
        "from sklearn.ensemble import GradientBoostingClassifier\n",
        "from xgboost.sklearn import XGBClassifier\n",
        "from lightgbm import LGBMClassifier\n",
        "import xgboost as xgb\n",
        "\n",
        "models = [\n",
        "    LogisticRegression(max_iter=3000),\n",
        "    #RandomForestClassifier(), # n_estimators=100, max_depth=5, random_state=42\n",
        "    #SVC(probability=True),\n",
        "    #KNeighborsClassifier(),\n",
        "    #AdaBoostClassifier(),\n",
        "    #GradientBoostingClassifier(),\n",
        "    #XGBClassifier(),\n",
        "    #LGBMClassifier()\n",
        "    ]"
      ],
      "metadata": {
        "id": "mjswar4bpGTA"
      },
      "execution_count": 100,
      "outputs": []
    },
    {
      "cell_type": "code",
      "source": [
        "from sklearn.metrics import classification_report\n",
        "from sklearn.metrics import roc_auc_score\n",
        "from sklearn.metrics import accuracy_score\n",
        "from sklearn.model_selection import cross_val_score\n",
        "\n",
        "#Train and score algorithms\n",
        "for m in models:\n",
        "    \n",
        "    m.fit(X_train, y_train)\n",
        "    pred = m.predict(X_test)\n",
        "    auc = roc_auc_score(y_test, pred)\n",
        "    cv = cross_val_score(m, X_test, y_test, cv=5).mean() \n",
        "    print(m.__class__.__name__)\n",
        "    #print('AUC-ROC score: ', auc)\n",
        "    print('AUC-ROC score (cv=5): ', cv)\n",
        "    print(\"-----------------------\")\n",
        "\n"
      ],
      "metadata": {
        "colab": {
          "base_uri": "https://localhost:8080/"
        },
        "id": "xlvZP4jKpJNY",
        "outputId": "f4adf332-5554-422e-8e1c-5f84b16a5b3e"
      },
      "execution_count": 110,
      "outputs": [
        {
          "output_type": "stream",
          "name": "stdout",
          "text": [
            "LogisticRegression\n",
            "AUC-ROC score (cv=5):  0.7098591549295775\n",
            "-----------------------\n"
          ]
        }
      ]
    },
    {
      "cell_type": "code",
      "source": [
        "import statsmodels.api as sm\n",
        "logit_model=sm.Logit(y_train,X_train)\n",
        "result=logit_model.fit()\n",
        "print(result.summary2())"
      ],
      "metadata": {
        "colab": {
          "base_uri": "https://localhost:8080/"
        },
        "id": "5AX8NEPR6og1",
        "outputId": "7347a9a0-cbeb-4cb6-fdf8-b9598838c674"
      },
      "execution_count": 111,
      "outputs": [
        {
          "output_type": "stream",
          "name": "stdout",
          "text": [
            "Optimization terminated successfully.\n",
            "         Current function value: 0.571513\n",
            "         Iterations 5\n",
            "                                 Results: Logit\n",
            "=================================================================================\n",
            "Model:                   Logit                 Pseudo R-squared:      0.175      \n",
            "Dependent Variable:      Attrition             AIC:                   3332.2014  \n",
            "Date:                    2022-10-17 17:15      BIC:                   3445.5600  \n",
            "No. Observations:        2882                  Log-Likelihood:        -1647.1    \n",
            "Df Model:                18                    LL-Null:               -1995.4    \n",
            "Df Residuals:            2863                  LLR p-value:           3.0052e-136\n",
            "Converged:               1.0000                Scale:                 1.0000     \n",
            "No. Iterations:          5.0000                                                  \n",
            "---------------------------------------------------------------------------------\n",
            "                                   Coef.  Std.Err.    z    P>|z|   [0.025  0.975]\n",
            "---------------------------------------------------------------------------------\n",
            "EmployeeNumber                     0.0004   0.0000 22.5810 0.0000  0.0004  0.0004\n",
            "Age                               -0.0110   0.0045 -2.4312 0.0150 -0.0198 -0.0021\n",
            "DailyRate                          0.0001   0.0001  1.3649 0.1723 -0.0001  0.0003\n",
            "EnvironmentSatisfaction           -0.0826   0.0382 -2.1600 0.0308 -0.1576 -0.0076\n",
            "JobInvolvement                    -0.0875   0.0575 -1.5225 0.1279 -0.2002  0.0252\n",
            "JobSatisfaction                   -0.0832   0.0380 -2.1891 0.0286 -0.1577 -0.0087\n",
            "OverTime                           0.4250   0.0959  4.4308 0.0000  0.2370  0.6131\n",
            "PerformanceRating                 -0.1602   0.1057 -1.5162 0.1295 -0.3673  0.0469\n",
            "StockOptionLevel                  -0.1066   0.0497 -2.1443 0.0320 -0.2041 -0.0092\n",
            "WorkLifeBalance                   -0.0953   0.0586 -1.6271 0.1037 -0.2101  0.0195\n",
            "Department_Research & Development  0.6058   0.4834  1.2532 0.2101 -0.3417  1.5532\n",
            "Department_Sales                   0.6652   0.4898  1.3582 0.1744 -0.2947  1.6251\n",
            "EducationField_Life Sciences      -0.8466   0.4184 -2.0232 0.0431 -1.6667 -0.0265\n",
            "EducationField_Marketing          -0.8043   0.4467 -1.8005 0.0718 -1.6799  0.0713\n",
            "EducationField_Medical            -0.9835   0.4238 -2.3208 0.0203 -1.8141 -0.1529\n",
            "EducationField_Other              -0.6791   0.4515 -1.5042 0.1325 -1.5640  0.2057\n",
            "EducationField_Technical Degree   -0.6047   0.4361 -1.3867 0.1655 -1.4594  0.2500\n",
            "JobRole_Human Resources            0.5638   0.4467  1.2622 0.2069 -0.3117  1.4392\n",
            "JobRole_Manufacturing Director    -0.2183   0.1471 -1.4842 0.1378 -0.5066  0.0700\n",
            "=================================================================================\n",
            "\n"
          ]
        }
      ]
    },
    {
      "cell_type": "code",
      "source": [
        "from sklearn.metrics import classification_report\n",
        "print(classification_report(y_test, pred))"
      ],
      "metadata": {
        "id": "Jys4D9fRArKz"
      },
      "execution_count": null,
      "outputs": []
    },
    {
      "cell_type": "code",
      "source": [
        "#drop collums with low impact\n",
        "'''\n",
        "df.drop(['JobRole_Sales Representative'], inplace=True, axis=1)\n",
        "df.drop(['JobRole_Sales Executive'], inplace=True, axis=1)\n",
        "df.drop(['JobRole_Research Scientist'], inplace=True, axis=1)\n",
        "df.drop(['JobRole_Manager'], inplace=True, axis=1)\n",
        "df.drop(['JobRole_Laboratory Technician'], inplace=True, axis=1)\n",
        "df.drop(['BusinessTravel_Travel_Rarely'], inplace=True, axis=1)\n",
        "df.drop(['YearsInCurrentRole'], inplace=True, axis=1)\n",
        "df.drop(['BusinessTravel_Travel_Frequently'], inplace=True, axis=1)\n",
        "df.drop(['MaritalStatus_Single'], inplace=True, axis=1)\n",
        "df.drop(['DistanceFromHome'], inplace=True, axis=1)\n",
        "df.drop(['Education'], inplace=True, axis=1)\n",
        "df.drop(['RelationshipSatisfaction'], inplace=True, axis=1)\n",
        "df.drop(['JobLevel'], inplace=True, axis=1)\n",
        "df.drop(['MonthlyIncome'], inplace=True, axis=1)\n",
        "df.drop(['PercentSalaryHike'], inplace=True, axis=1)\n",
        "df.drop(['Gender'], inplace=True, axis=1)\n",
        "df.drop(['MonthlyRate'], inplace=True, axis=1)\n",
        "df.drop(['NumCompaniesWorked'], inplace=True, axis=1)\n",
        "df.drop(['TotalWorkingYears'], inplace=True, axis=1)\n",
        "df.drop(['TrainingTimesLastYear'], inplace=True, axis=1)\n",
        "df.drop(['YearsAtCompany'], inplace=True, axis=1)\n",
        "df.drop(['YearsSinceLastPromotion'], inplace=True, axis=1)\n",
        "df.drop(['YearsWithCurrManager'], inplace=True, axis=1)\n",
        "df.drop(['MaritalStatus_Married'], inplace=True, axis=1)\n",
        "df.drop(['JobRole_Research Director'], inplace=True, axis=1)\n",
        "\n",
        "'''\n",
        "df.drop(['HourlyRate'], inplace=True, axis=1)\n",
        "\n",
        "\n",
        "df_test = df[df['EmployeeNumber'] >= 100000]\n",
        "df_train = df[df['EmployeeNumber'] < 100000]\n",
        "\n",
        "X = df_train.drop(['Attrition'], axis=1)\n",
        "y = df_train['Attrition']\n",
        "\n",
        "X_train, X_test, y_train, y_test = train_test_split(X, y, test_size=0.33, random_state=42)"
      ],
      "metadata": {
        "id": "3piAerJh2D2P"
      },
      "execution_count": 109,
      "outputs": []
    },
    {
      "cell_type": "markdown",
      "source": [
        "#output"
      ],
      "metadata": {
        "id": "azWW1a8570WO"
      }
    },
    {
      "cell_type": "code",
      "source": [
        "#best model LogisticRegression()\n",
        "\n",
        "X_df_test = df_test.drop(['Attrition'], axis=1)\n",
        "\n",
        "\n",
        "m=LogisticRegression()  \n",
        "  \n",
        "m.fit(X_train, y_train)\n",
        "pred = m.predict(X_df_test)\n",
        "X_df_test['pred']=pred\n",
        "print(m.__class__.__name__)\n",
        "print('AUC-ROC score (cv=5): ', cv)\n",
        "print(\"-----------------------\")\n"
      ],
      "metadata": {
        "colab": {
          "base_uri": "https://localhost:8080/"
        },
        "id": "sQD8O3B02Cg7",
        "outputId": "d9be2726-17a8-40a7-8181-d6906da69a8b"
      },
      "execution_count": 112,
      "outputs": [
        {
          "output_type": "stream",
          "name": "stdout",
          "text": [
            "LogisticRegression\n",
            "AUC-ROC score (cv=5):  0.7098591549295775\n",
            "-----------------------\n"
          ]
        }
      ]
    },
    {
      "cell_type": "code",
      "source": [
        "vystup = pd.DataFrame()\n",
        "vystup['EmployeeNumber'] = X_df_test['EmployeeNumber'] \n",
        "vystup['pred'] = X_df_test['pred']\n",
        "vystup\n"
      ],
      "metadata": {
        "colab": {
          "base_uri": "https://localhost:8080/",
          "height": 424
        },
        "id": "SJg4YkU8Ch21",
        "outputId": "ee756307-d4a4-4fde-809f-12d77a388b7a"
      },
      "execution_count": 113,
      "outputs": [
        {
          "output_type": "execute_result",
          "data": {
            "text/plain": [
              "      EmployeeNumber  pred\n",
              "1323          100000   1.0\n",
              "1324          100001   1.0\n",
              "1325          100002   1.0\n",
              "1326          100003   1.0\n",
              "1327          100004   1.0\n",
              "...              ...   ...\n",
              "1465          100142   1.0\n",
              "1466          100143   1.0\n",
              "1467          100144   1.0\n",
              "1468          100145   1.0\n",
              "1469          100146   1.0\n",
              "\n",
              "[147 rows x 2 columns]"
            ],
            "text/html": [
              "\n",
              "  <div id=\"df-fa70dc19-aa83-4648-9ab2-dbeefaad928a\">\n",
              "    <div class=\"colab-df-container\">\n",
              "      <div>\n",
              "<style scoped>\n",
              "    .dataframe tbody tr th:only-of-type {\n",
              "        vertical-align: middle;\n",
              "    }\n",
              "\n",
              "    .dataframe tbody tr th {\n",
              "        vertical-align: top;\n",
              "    }\n",
              "\n",
              "    .dataframe thead th {\n",
              "        text-align: right;\n",
              "    }\n",
              "</style>\n",
              "<table border=\"1\" class=\"dataframe\">\n",
              "  <thead>\n",
              "    <tr style=\"text-align: right;\">\n",
              "      <th></th>\n",
              "      <th>EmployeeNumber</th>\n",
              "      <th>pred</th>\n",
              "    </tr>\n",
              "  </thead>\n",
              "  <tbody>\n",
              "    <tr>\n",
              "      <th>1323</th>\n",
              "      <td>100000</td>\n",
              "      <td>1.0</td>\n",
              "    </tr>\n",
              "    <tr>\n",
              "      <th>1324</th>\n",
              "      <td>100001</td>\n",
              "      <td>1.0</td>\n",
              "    </tr>\n",
              "    <tr>\n",
              "      <th>1325</th>\n",
              "      <td>100002</td>\n",
              "      <td>1.0</td>\n",
              "    </tr>\n",
              "    <tr>\n",
              "      <th>1326</th>\n",
              "      <td>100003</td>\n",
              "      <td>1.0</td>\n",
              "    </tr>\n",
              "    <tr>\n",
              "      <th>1327</th>\n",
              "      <td>100004</td>\n",
              "      <td>1.0</td>\n",
              "    </tr>\n",
              "    <tr>\n",
              "      <th>...</th>\n",
              "      <td>...</td>\n",
              "      <td>...</td>\n",
              "    </tr>\n",
              "    <tr>\n",
              "      <th>1465</th>\n",
              "      <td>100142</td>\n",
              "      <td>1.0</td>\n",
              "    </tr>\n",
              "    <tr>\n",
              "      <th>1466</th>\n",
              "      <td>100143</td>\n",
              "      <td>1.0</td>\n",
              "    </tr>\n",
              "    <tr>\n",
              "      <th>1467</th>\n",
              "      <td>100144</td>\n",
              "      <td>1.0</td>\n",
              "    </tr>\n",
              "    <tr>\n",
              "      <th>1468</th>\n",
              "      <td>100145</td>\n",
              "      <td>1.0</td>\n",
              "    </tr>\n",
              "    <tr>\n",
              "      <th>1469</th>\n",
              "      <td>100146</td>\n",
              "      <td>1.0</td>\n",
              "    </tr>\n",
              "  </tbody>\n",
              "</table>\n",
              "<p>147 rows × 2 columns</p>\n",
              "</div>\n",
              "      <button class=\"colab-df-convert\" onclick=\"convertToInteractive('df-fa70dc19-aa83-4648-9ab2-dbeefaad928a')\"\n",
              "              title=\"Convert this dataframe to an interactive table.\"\n",
              "              style=\"display:none;\">\n",
              "        \n",
              "  <svg xmlns=\"http://www.w3.org/2000/svg\" height=\"24px\"viewBox=\"0 0 24 24\"\n",
              "       width=\"24px\">\n",
              "    <path d=\"M0 0h24v24H0V0z\" fill=\"none\"/>\n",
              "    <path d=\"M18.56 5.44l.94 2.06.94-2.06 2.06-.94-2.06-.94-.94-2.06-.94 2.06-2.06.94zm-11 1L8.5 8.5l.94-2.06 2.06-.94-2.06-.94L8.5 2.5l-.94 2.06-2.06.94zm10 10l.94 2.06.94-2.06 2.06-.94-2.06-.94-.94-2.06-.94 2.06-2.06.94z\"/><path d=\"M17.41 7.96l-1.37-1.37c-.4-.4-.92-.59-1.43-.59-.52 0-1.04.2-1.43.59L10.3 9.45l-7.72 7.72c-.78.78-.78 2.05 0 2.83L4 21.41c.39.39.9.59 1.41.59.51 0 1.02-.2 1.41-.59l7.78-7.78 2.81-2.81c.8-.78.8-2.07 0-2.86zM5.41 20L4 18.59l7.72-7.72 1.47 1.35L5.41 20z\"/>\n",
              "  </svg>\n",
              "      </button>\n",
              "      \n",
              "  <style>\n",
              "    .colab-df-container {\n",
              "      display:flex;\n",
              "      flex-wrap:wrap;\n",
              "      gap: 12px;\n",
              "    }\n",
              "\n",
              "    .colab-df-convert {\n",
              "      background-color: #E8F0FE;\n",
              "      border: none;\n",
              "      border-radius: 50%;\n",
              "      cursor: pointer;\n",
              "      display: none;\n",
              "      fill: #1967D2;\n",
              "      height: 32px;\n",
              "      padding: 0 0 0 0;\n",
              "      width: 32px;\n",
              "    }\n",
              "\n",
              "    .colab-df-convert:hover {\n",
              "      background-color: #E2EBFA;\n",
              "      box-shadow: 0px 1px 2px rgba(60, 64, 67, 0.3), 0px 1px 3px 1px rgba(60, 64, 67, 0.15);\n",
              "      fill: #174EA6;\n",
              "    }\n",
              "\n",
              "    [theme=dark] .colab-df-convert {\n",
              "      background-color: #3B4455;\n",
              "      fill: #D2E3FC;\n",
              "    }\n",
              "\n",
              "    [theme=dark] .colab-df-convert:hover {\n",
              "      background-color: #434B5C;\n",
              "      box-shadow: 0px 1px 3px 1px rgba(0, 0, 0, 0.15);\n",
              "      filter: drop-shadow(0px 1px 2px rgba(0, 0, 0, 0.3));\n",
              "      fill: #FFFFFF;\n",
              "    }\n",
              "  </style>\n",
              "\n",
              "      <script>\n",
              "        const buttonEl =\n",
              "          document.querySelector('#df-fa70dc19-aa83-4648-9ab2-dbeefaad928a button.colab-df-convert');\n",
              "        buttonEl.style.display =\n",
              "          google.colab.kernel.accessAllowed ? 'block' : 'none';\n",
              "\n",
              "        async function convertToInteractive(key) {\n",
              "          const element = document.querySelector('#df-fa70dc19-aa83-4648-9ab2-dbeefaad928a');\n",
              "          const dataTable =\n",
              "            await google.colab.kernel.invokeFunction('convertToInteractive',\n",
              "                                                     [key], {});\n",
              "          if (!dataTable) return;\n",
              "\n",
              "          const docLinkHtml = 'Like what you see? Visit the ' +\n",
              "            '<a target=\"_blank\" href=https://colab.research.google.com/notebooks/data_table.ipynb>data table notebook</a>'\n",
              "            + ' to learn more about interactive tables.';\n",
              "          element.innerHTML = '';\n",
              "          dataTable['output_type'] = 'display_data';\n",
              "          await google.colab.output.renderOutput(dataTable, element);\n",
              "          const docLink = document.createElement('div');\n",
              "          docLink.innerHTML = docLinkHtml;\n",
              "          element.appendChild(docLink);\n",
              "        }\n",
              "      </script>\n",
              "    </div>\n",
              "  </div>\n",
              "  "
            ]
          },
          "metadata": {},
          "execution_count": 113
        }
      ]
    },
    {
      "cell_type": "code",
      "source": [
        "vystup.to_csv(\"Submission.csv\", index = False)"
      ],
      "metadata": {
        "id": "s4S1-2BJEf9W"
      },
      "execution_count": 114,
      "outputs": []
    }
  ]
}